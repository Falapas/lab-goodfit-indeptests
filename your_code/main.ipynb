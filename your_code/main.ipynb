{
 "cells": [
  {
   "cell_type": "markdown",
   "metadata": {},
   "source": [
    "## Question 1\n",
    "The following table indicates the number of 6-point scores in an American rugby match in the 1979 season.\n",
    "\n",
    "![](table1.png)\n",
    "\n",
    "Based on these results, we create a Poisson distribution with the sample mean parameter  = 2.435. Is there any reason to believe that at a .05 level the number of scores is a Poisson variable?"
   ]
  },
  {
   "cell_type": "code",
   "execution_count": 1,
   "metadata": {},
   "outputs": [
    {
     "name": "stdout",
     "output_type": "stream",
     "text": [
      "[39.243790677529816, 95.55863029978511, 116.34263238998835, 94.4314366232072, 57.48513704437739, 27.995261740611806, 11.361410389731613, 3.952147756999499]\n",
      "[35, 99, 104, 110, 62, 25, 10, 3]\n"
     ]
    },
    {
     "data": {
      "text/plain": [
       "Power_divergenceResult(statistic=5.526588649191276, pvalue=0.5959787428784398)"
      ]
     },
     "execution_count": 1,
     "metadata": {},
     "output_type": "execute_result"
    }
   ],
   "source": [
    "# your answer here\n",
    "\n",
    "obs = [35, 99, 104, 110, 62, 25, 10, 3]\n",
    "\n",
    "from scipy import stats\n",
    "import numpy as np\n",
    "\n",
    "scores = stats.poisson(2.435)\n",
    "\n",
    "scores.pmf(0)*448\n",
    "\n",
    "exp = []\n",
    "\n",
    "for i in range(8):\n",
    "    scores.pmf(i)*448\n",
    "    exp.append(scores.pmf(i)*448)\n",
    "\n",
    "print(exp)\n",
    "print(obs)\n",
    "\n",
    "# H0: obs = exp\n",
    "# H1: obs != exp\n",
    "\n",
    "stats.chisquare(obs, exp)\n",
    "\n",
    "\"\"\"We can not reject the null hypothesis, wich means that there is reaspn to bealive that our sample comes from a Poisson distribution.\"\"\""
   ]
  },
  {
   "cell_type": "markdown",
   "metadata": {},
   "source": [
    "## BONUS/OPTIONAL - Question 2\n",
    "Let's analyze a discrete distribution. To analyze the number of defective items in a factory in the city of Medellín, we took a random sample of n = 60 articles and observed the number of defectives in the following table:\n",
    "\n",
    "![](table2.png)\n",
    "\n",
    "A poissón distribution was proposed since it is defined for x = 0,1,2,3, .... using the following model:\n",
    "\n",
    "![](image1.png)\n",
    "\n",
    "For some extra insights check the following link: https://online.stat.psu.edu/stat504/node/63/ \n",
    "\n",
    "Does the distribution of defective items follow this distribution?"
   ]
  },
  {
   "cell_type": "code",
   "execution_count": 2,
   "metadata": {},
   "outputs": [],
   "source": [
    "# your code here"
   ]
  },
  {
   "cell_type": "markdown",
   "metadata": {},
   "source": [
    "## Question 3\n",
    "A quality control engineer takes a sample of 10 tires that come out of an assembly line, and would like to verify on the basis of the data that follows, if the number of tires with defects observed over 200 days, if it is true that 5% of all tires have defects (that is, if the sample comes from a binomial population with n = 10 and p = 0.05). \n",
    "\n",
    "![](table3.png)\n"
   ]
  },
  {
   "cell_type": "code",
   "execution_count": 4,
   "metadata": {},
   "outputs": [
    {
     "name": "stdout",
     "output_type": "stream",
     "text": [
      "Power_divergenceResult(statistic=6.730152995610064, pvalue=0.034559372300758)\n"
     ]
    }
   ],
   "source": [
    "# your answer here\n",
    "\n",
    "# H0: The sample comes from a binomial distribution\n",
    "# H1: The samples doesn't come from a binomial disbribution\n",
    "\n",
    "from scipy.stats import binom\n",
    "import scipy.stats as st\n",
    "    \n",
    "n = 10\n",
    "p = 0.05\n",
    "    \n",
    "binomial = binom(n,p)\n",
    "    \n",
    "binomial_pmf = np.array([binomial.pmf(i)*200 for i in range(3)])\n",
    "    \n",
    "obs = np.array([138, 53, 9])\n",
    "    \n",
    "print(st.chisquare(obs, binomial_pmf))\n",
    "\n",
    "\"\"\"We must reject the null hypothesis that our sample comes from a binomial distribution with an n = 10, and a p = 0.05.\"\"\""
   ]
  },
  {
   "cell_type": "markdown",
   "metadata": {},
   "source": [
    "## Question 4\n",
    "A researcher gathers information about the patterns of Physical Activity of children in the fifth grade of primary school of a public school. He defines three categories of physical activity (Low, Medium, High). He also inquires about the regular consumption of sugary drinks at school, and defines two categories (Yes = consumed, No = not consumed). We would like to evaluate if there is an association between patterns of physical activity and the consumption of sugary drinks for the children of this school, at a level of 5% significance. The results are in the following table: \n",
    "\n",
    "![](table4.png)"
   ]
  },
  {
   "cell_type": "code",
   "execution_count": 7,
   "metadata": {},
   "outputs": [
    {
     "name": "stdout",
     "output_type": "stream",
     "text": [
      "(10.712198008709638, 0.004719280137040844, 2, array([[24.08421053, 19.91578947],\n",
      "       [19.70526316, 16.29473684],\n",
      "       [ 8.21052632,  6.78947368]]))\n"
     ]
    }
   ],
   "source": [
    "#your answer here\n",
    "\n",
    "# H0: There isn't an association between patterns.\n",
    "# H1: There is an association between patterns.\n",
    "\n",
    "sugary_table=[[32,12], [14,22], [6,9]]\n",
    "\n",
    "print(st.chi2_contingency(np.array(sugary_table)))\n",
    "\n",
    "\"\"\"We must reject the null hypothesis, because our p-value < 0.05, and so there is an association between patterns of physical activity and the consumption of sugary drinks.\"\"\""
   ]
  },
  {
   "cell_type": "code",
   "execution_count": null,
   "metadata": {},
   "outputs": [],
   "source": []
  }
 ],
 "metadata": {
  "kernelspec": {
   "display_name": "Python 3",
   "language": "python",
   "name": "python3"
  },
  "language_info": {
   "codemirror_mode": {
    "name": "ipython",
    "version": 3
   },
   "file_extension": ".py",
   "mimetype": "text/x-python",
   "name": "python",
   "nbconvert_exporter": "python",
   "pygments_lexer": "ipython3",
   "version": "3.8.3"
  }
 },
 "nbformat": 4,
 "nbformat_minor": 4
}
